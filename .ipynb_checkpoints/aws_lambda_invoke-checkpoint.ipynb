{
 "cells": [
  {
   "cell_type": "code",
   "execution_count": 2,
   "metadata": {},
   "outputs": [],
   "source": [
    "from __future__ import division, print_function, unicode_literals\n",
    "from datetime import datetime\n",
    "import logging\n",
    "import json\n",
    "import sys\n",
    "import boto3\n",
    "import botocore\n",
    "import time\n"
   ]
  },
  {
   "cell_type": "code",
   "execution_count": 3,
   "metadata": {},
   "outputs": [],
   "source": [
    "lambd = boto3.client('lambda')"
   ]
  },
  {
   "cell_type": "code",
   "execution_count": 4,
   "metadata": {},
   "outputs": [],
   "source": [
    "response = lambd.invoke(\n",
    "    FunctionName='lambdafunction-LambdaTrigger-12U4YCBXJSF2D',\n",
    "    InvocationType= 'RequestResponse',\n",
    "    LogType='Tail',\n",
    "    #ClientContext='string',\n",
    "    #Payload=b'bytes'|file,\n",
    "    #Qualifier='string'\n",
    ")\n"
   ]
  },
  {
   "cell_type": "code",
   "execution_count": 5,
   "metadata": {},
   "outputs": [
    {
     "name": "stdout",
     "output_type": "stream",
     "text": [
      "{'ResponseMetadata': {'RequestId': '2747f3a7-389a-48bd-a96b-35f0f8073414', 'HTTPStatusCode': 200, 'HTTPHeaders': {'date': 'Mon, 15 Jul 2019 18:55:49 GMT', 'content-type': 'application/json', 'content-length': '11', 'connection': 'keep-alive', 'x-amzn-requestid': '2747f3a7-389a-48bd-a96b-35f0f8073414', 'x-amzn-remapped-content-length': '0', 'x-amz-executed-version': '$LATEST', 'x-amz-log-result': 'U1RBUlQgUmVxdWVzdElkOiAyNzQ3ZjNhNy0zODlhLTQ4YmQtYTk2Yi0zNWYwZjgwNzM0MTQgVmVyc2lvbjogJExBVEVTVApFTkQgUmVxdWVzdElkOiAyNzQ3ZjNhNy0zODlhLTQ4YmQtYTk2Yi0zNWYwZjgwNzM0MTQKUkVQT1JUIFJlcXVlc3RJZDogMjc0N2YzYTctMzg5YS00OGJkLWE5NmItMzVmMGY4MDczNDE0CUR1cmF0aW9uOiAyLjExIG1zCUJpbGxlZCBEdXJhdGlvbjogMTAwIG1zIAlNZW1vcnkgU2l6ZTogMTAyNCBNQglNYXggTWVtb3J5IFVzZWQ6IDU0IE1CCQpYUkFZIFRyYWNlSWQ6IDEtNWQyY2NjMzQtM2JjZTlmNDIxOGRmMWE0OGMwMDRkNTNlCVNlZ21lbnRJZDogNmIzMmZjZGQ2ZmRhNjViZQkK', 'x-amzn-trace-id': 'root=1-5d2ccc34-3bce9f4218df1a48c004d53e;sampled=1'}, 'RetryAttempts': 0}, 'StatusCode': 200, 'LogResult': 'U1RBUlQgUmVxdWVzdElkOiAyNzQ3ZjNhNy0zODlhLTQ4YmQtYTk2Yi0zNWYwZjgwNzM0MTQgVmVyc2lvbjogJExBVEVTVApFTkQgUmVxdWVzdElkOiAyNzQ3ZjNhNy0zODlhLTQ4YmQtYTk2Yi0zNWYwZjgwNzM0MTQKUkVQT1JUIFJlcXVlc3RJZDogMjc0N2YzYTctMzg5YS00OGJkLWE5NmItMzVmMGY4MDczNDE0CUR1cmF0aW9uOiAyLjExIG1zCUJpbGxlZCBEdXJhdGlvbjogMTAwIG1zIAlNZW1vcnkgU2l6ZTogMTAyNCBNQglNYXggTWVtb3J5IFVzZWQ6IDU0IE1CCQpYUkFZIFRyYWNlSWQ6IDEtNWQyY2NjMzQtM2JjZTlmNDIxOGRmMWE0OGMwMDRkNTNlCVNlZ21lbnRJZDogNmIzMmZjZGQ2ZmRhNjViZQkK', 'ExecutedVersion': '$LATEST', 'Payload': <botocore.response.StreamingBody object at 0x7f955a3b2198>}\n"
     ]
    }
   ],
   "source": [
    "print(response)"
   ]
  },
  {
   "cell_type": "code",
   "execution_count": 7,
   "metadata": {},
   "outputs": [],
   "source": [
    "payload = response['Payload']"
   ]
  },
  {
   "cell_type": "code",
   "execution_count": 9,
   "metadata": {},
   "outputs": [],
   "source": [
    "a = payload.read()"
   ]
  },
  {
   "cell_type": "code",
   "execution_count": 10,
   "metadata": {},
   "outputs": [
    {
     "name": "stdout",
     "output_type": "stream",
     "text": [
      "b'\"anillohar\"'\n"
     ]
    }
   ],
   "source": [
    "print(a)"
   ]
  },
  {
   "cell_type": "code",
   "execution_count": null,
   "metadata": {},
   "outputs": [],
   "source": []
  }
 ],
 "metadata": {
  "kernelspec": {
   "display_name": "Python 3",
   "language": "python",
   "name": "python3"
  },
  "language_info": {
   "codemirror_mode": {
    "name": "ipython",
    "version": 3
   },
   "file_extension": ".py",
   "mimetype": "text/x-python",
   "name": "python",
   "nbconvert_exporter": "python",
   "pygments_lexer": "ipython3",
   "version": "3.7.3"
  }
 },
 "nbformat": 4,
 "nbformat_minor": 2
}
